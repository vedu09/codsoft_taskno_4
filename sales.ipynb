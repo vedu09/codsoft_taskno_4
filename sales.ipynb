{
  "nbformat": 4,
  "nbformat_minor": 0,
  "metadata": {
    "colab": {
      "provenance": []
    },
    "kernelspec": {
      "name": "python3",
      "display_name": "Python 3"
    },
    "language_info": {
      "name": "python"
    }
  },
  "cells": [
    {
      "cell_type": "markdown",
      "source": [
        "# **INTRODUCTION:-**\n",
        "\n",
        "Welcome!\n",
        "\n",
        "This Project is all about advertising through different methods.\n",
        "\n",
        "The data source file is advertising.csv dataset that conatins 4 columns(TV, Radio, Newspaper, Sales).\n",
        "\n",
        "The goal of this project is to use the provided dataset to forecast sales by analyzing how much is spent on advertising across various platforms like TV, Radio, and Newspaper. The dataset includes information on advertising expenses on these platforms along with the corresponding sales amounts. The aim is to understand how changes in advertising spending influence sales outcomes."
      ],
      "metadata": {
        "id": "nNYBgobjQGKy"
      }
    },
    {
      "cell_type": "code",
      "execution_count": 83,
      "metadata": {
        "id": "BUpyuNFEQA0E"
      },
      "outputs": [],
      "source": [
        "# Step 1: Import necessary libraries\n",
        "\n",
        "import pandas as pd\n",
        "import numpy as np\n",
        "import matplotlib.pyplot as plt\n",
        "\n",
        "from sklearn.model_selection import train_test_split\n",
        "from sklearn.linear_model import LinearRegression\n",
        "from sklearn.metrics import r2_score,mean_squared_error,classification_report"
      ]
    },
    {
      "cell_type": "code",
      "source": [
        "#Step 2: Loading data\n",
        "\n",
        "df=pd.read_csv(\"advertising.csv\")\n"
      ],
      "metadata": {
        "id": "Xzw1Z62mQlvl"
      },
      "execution_count": 71,
      "outputs": []
    },
    {
      "cell_type": "code",
      "source": [
        "#Step 3: Checking data is loaded properly or not\n",
        "\n",
        "print(df)"
      ],
      "metadata": {
        "colab": {
          "base_uri": "https://localhost:8080/"
        },
        "id": "3_QXyhYehYvK",
        "outputId": "25e10e28-0d9e-4e5e-a5a6-890000104cb8"
      },
      "execution_count": 70,
      "outputs": [
        {
          "output_type": "stream",
          "name": "stdout",
          "text": [
            "        TV  Radio  Newspaper  Sales\n",
            "0    230.1   37.8       69.2   22.1\n",
            "1     44.5   39.3       45.1   10.4\n",
            "2     17.2   45.9       69.3   12.0\n",
            "3    151.5   41.3       58.5   16.5\n",
            "4    180.8   10.8       58.4   17.9\n",
            "..     ...    ...        ...    ...\n",
            "195   38.2    3.7       13.8    7.6\n",
            "196   94.2    4.9        8.1   14.0\n",
            "197  177.0    9.3        6.4   14.8\n",
            "198  283.6   42.0       66.2   25.5\n",
            "199  232.1    8.6        8.7   18.4\n",
            "\n",
            "[200 rows x 4 columns]\n"
          ]
        }
      ]
    },
    {
      "cell_type": "code",
      "source": [
        "#Step 4: Data Understanding\n",
        "\n",
        "df.dtypes  #returns column datatypes"
      ],
      "metadata": {
        "colab": {
          "base_uri": "https://localhost:8080/"
        },
        "id": "RD-I_I1ahn-C",
        "outputId": "4fa0b8d8-5031-40af-cc62-8102464be92f"
      },
      "execution_count": 72,
      "outputs": [
        {
          "output_type": "execute_result",
          "data": {
            "text/plain": [
              "TV           float64\n",
              "Radio        float64\n",
              "Newspaper    float64\n",
              "Sales        float64\n",
              "dtype: object"
            ]
          },
          "metadata": {},
          "execution_count": 72
        }
      ]
    },
    {
      "cell_type": "code",
      "source": [
        "df.shape #returns no. of rows & columns"
      ],
      "metadata": {
        "colab": {
          "base_uri": "https://localhost:8080/"
        },
        "id": "tZrDulHLh5XM",
        "outputId": "99434f96-b2c1-4e45-df8e-78395dc2ddd8"
      },
      "execution_count": 73,
      "outputs": [
        {
          "output_type": "execute_result",
          "data": {
            "text/plain": [
              "(200, 4)"
            ]
          },
          "metadata": {},
          "execution_count": 73
        }
      ]
    },
    {
      "cell_type": "code",
      "source": [
        "df.info()  #returns data information"
      ],
      "metadata": {
        "colab": {
          "base_uri": "https://localhost:8080/"
        },
        "id": "DHXLNREYQtgV",
        "outputId": "f2351c71-567e-4630-8303-f25f9f72cb09"
      },
      "execution_count": 74,
      "outputs": [
        {
          "output_type": "stream",
          "name": "stdout",
          "text": [
            "<class 'pandas.core.frame.DataFrame'>\n",
            "RangeIndex: 200 entries, 0 to 199\n",
            "Data columns (total 4 columns):\n",
            " #   Column     Non-Null Count  Dtype  \n",
            "---  ------     --------------  -----  \n",
            " 0   TV         200 non-null    float64\n",
            " 1   Radio      200 non-null    float64\n",
            " 2   Newspaper  200 non-null    float64\n",
            " 3   Sales      200 non-null    float64\n",
            "dtypes: float64(4)\n",
            "memory usage: 6.4 KB\n"
          ]
        }
      ]
    },
    {
      "cell_type": "code",
      "source": [
        "df.describe()  #returns statistical information"
      ],
      "metadata": {
        "colab": {
          "base_uri": "https://localhost:8080/",
          "height": 300
        },
        "id": "fEfzgZEuiMXl",
        "outputId": "6fc8c713-056e-4312-f186-0ee4db0cf3c4"
      },
      "execution_count": 75,
      "outputs": [
        {
          "output_type": "execute_result",
          "data": {
            "text/plain": [
              "               TV       Radio   Newspaper       Sales\n",
              "count  200.000000  200.000000  200.000000  200.000000\n",
              "mean   147.042500   23.264000   30.554000   15.130500\n",
              "std     85.854236   14.846809   21.778621    5.283892\n",
              "min      0.700000    0.000000    0.300000    1.600000\n",
              "25%     74.375000    9.975000   12.750000   11.000000\n",
              "50%    149.750000   22.900000   25.750000   16.000000\n",
              "75%    218.825000   36.525000   45.100000   19.050000\n",
              "max    296.400000   49.600000  114.000000   27.000000"
            ],
            "text/html": [
              "\n",
              "  <div id=\"df-a9a1a1e0-1b38-4407-a495-801efc4ebc13\" class=\"colab-df-container\">\n",
              "    <div>\n",
              "<style scoped>\n",
              "    .dataframe tbody tr th:only-of-type {\n",
              "        vertical-align: middle;\n",
              "    }\n",
              "\n",
              "    .dataframe tbody tr th {\n",
              "        vertical-align: top;\n",
              "    }\n",
              "\n",
              "    .dataframe thead th {\n",
              "        text-align: right;\n",
              "    }\n",
              "</style>\n",
              "<table border=\"1\" class=\"dataframe\">\n",
              "  <thead>\n",
              "    <tr style=\"text-align: right;\">\n",
              "      <th></th>\n",
              "      <th>TV</th>\n",
              "      <th>Radio</th>\n",
              "      <th>Newspaper</th>\n",
              "      <th>Sales</th>\n",
              "    </tr>\n",
              "  </thead>\n",
              "  <tbody>\n",
              "    <tr>\n",
              "      <th>count</th>\n",
              "      <td>200.000000</td>\n",
              "      <td>200.000000</td>\n",
              "      <td>200.000000</td>\n",
              "      <td>200.000000</td>\n",
              "    </tr>\n",
              "    <tr>\n",
              "      <th>mean</th>\n",
              "      <td>147.042500</td>\n",
              "      <td>23.264000</td>\n",
              "      <td>30.554000</td>\n",
              "      <td>15.130500</td>\n",
              "    </tr>\n",
              "    <tr>\n",
              "      <th>std</th>\n",
              "      <td>85.854236</td>\n",
              "      <td>14.846809</td>\n",
              "      <td>21.778621</td>\n",
              "      <td>5.283892</td>\n",
              "    </tr>\n",
              "    <tr>\n",
              "      <th>min</th>\n",
              "      <td>0.700000</td>\n",
              "      <td>0.000000</td>\n",
              "      <td>0.300000</td>\n",
              "      <td>1.600000</td>\n",
              "    </tr>\n",
              "    <tr>\n",
              "      <th>25%</th>\n",
              "      <td>74.375000</td>\n",
              "      <td>9.975000</td>\n",
              "      <td>12.750000</td>\n",
              "      <td>11.000000</td>\n",
              "    </tr>\n",
              "    <tr>\n",
              "      <th>50%</th>\n",
              "      <td>149.750000</td>\n",
              "      <td>22.900000</td>\n",
              "      <td>25.750000</td>\n",
              "      <td>16.000000</td>\n",
              "    </tr>\n",
              "    <tr>\n",
              "      <th>75%</th>\n",
              "      <td>218.825000</td>\n",
              "      <td>36.525000</td>\n",
              "      <td>45.100000</td>\n",
              "      <td>19.050000</td>\n",
              "    </tr>\n",
              "    <tr>\n",
              "      <th>max</th>\n",
              "      <td>296.400000</td>\n",
              "      <td>49.600000</td>\n",
              "      <td>114.000000</td>\n",
              "      <td>27.000000</td>\n",
              "    </tr>\n",
              "  </tbody>\n",
              "</table>\n",
              "</div>\n",
              "    <div class=\"colab-df-buttons\">\n",
              "\n",
              "  <div class=\"colab-df-container\">\n",
              "    <button class=\"colab-df-convert\" onclick=\"convertToInteractive('df-a9a1a1e0-1b38-4407-a495-801efc4ebc13')\"\n",
              "            title=\"Convert this dataframe to an interactive table.\"\n",
              "            style=\"display:none;\">\n",
              "\n",
              "  <svg xmlns=\"http://www.w3.org/2000/svg\" height=\"24px\" viewBox=\"0 -960 960 960\">\n",
              "    <path d=\"M120-120v-720h720v720H120Zm60-500h600v-160H180v160Zm220 220h160v-160H400v160Zm0 220h160v-160H400v160ZM180-400h160v-160H180v160Zm440 0h160v-160H620v160ZM180-180h160v-160H180v160Zm440 0h160v-160H620v160Z\"/>\n",
              "  </svg>\n",
              "    </button>\n",
              "\n",
              "  <style>\n",
              "    .colab-df-container {\n",
              "      display:flex;\n",
              "      gap: 12px;\n",
              "    }\n",
              "\n",
              "    .colab-df-convert {\n",
              "      background-color: #E8F0FE;\n",
              "      border: none;\n",
              "      border-radius: 50%;\n",
              "      cursor: pointer;\n",
              "      display: none;\n",
              "      fill: #1967D2;\n",
              "      height: 32px;\n",
              "      padding: 0 0 0 0;\n",
              "      width: 32px;\n",
              "    }\n",
              "\n",
              "    .colab-df-convert:hover {\n",
              "      background-color: #E2EBFA;\n",
              "      box-shadow: 0px 1px 2px rgba(60, 64, 67, 0.3), 0px 1px 3px 1px rgba(60, 64, 67, 0.15);\n",
              "      fill: #174EA6;\n",
              "    }\n",
              "\n",
              "    .colab-df-buttons div {\n",
              "      margin-bottom: 4px;\n",
              "    }\n",
              "\n",
              "    [theme=dark] .colab-df-convert {\n",
              "      background-color: #3B4455;\n",
              "      fill: #D2E3FC;\n",
              "    }\n",
              "\n",
              "    [theme=dark] .colab-df-convert:hover {\n",
              "      background-color: #434B5C;\n",
              "      box-shadow: 0px 1px 3px 1px rgba(0, 0, 0, 0.15);\n",
              "      filter: drop-shadow(0px 1px 2px rgba(0, 0, 0, 0.3));\n",
              "      fill: #FFFFFF;\n",
              "    }\n",
              "  </style>\n",
              "\n",
              "    <script>\n",
              "      const buttonEl =\n",
              "        document.querySelector('#df-a9a1a1e0-1b38-4407-a495-801efc4ebc13 button.colab-df-convert');\n",
              "      buttonEl.style.display =\n",
              "        google.colab.kernel.accessAllowed ? 'block' : 'none';\n",
              "\n",
              "      async function convertToInteractive(key) {\n",
              "        const element = document.querySelector('#df-a9a1a1e0-1b38-4407-a495-801efc4ebc13');\n",
              "        const dataTable =\n",
              "          await google.colab.kernel.invokeFunction('convertToInteractive',\n",
              "                                                    [key], {});\n",
              "        if (!dataTable) return;\n",
              "\n",
              "        const docLinkHtml = 'Like what you see? Visit the ' +\n",
              "          '<a target=\"_blank\" href=https://colab.research.google.com/notebooks/data_table.ipynb>data table notebook</a>'\n",
              "          + ' to learn more about interactive tables.';\n",
              "        element.innerHTML = '';\n",
              "        dataTable['output_type'] = 'display_data';\n",
              "        await google.colab.output.renderOutput(dataTable, element);\n",
              "        const docLink = document.createElement('div');\n",
              "        docLink.innerHTML = docLinkHtml;\n",
              "        element.appendChild(docLink);\n",
              "      }\n",
              "    </script>\n",
              "  </div>\n",
              "\n",
              "\n",
              "<div id=\"df-f7a272dd-3429-4b6f-b0ec-8cbd88ea05db\">\n",
              "  <button class=\"colab-df-quickchart\" onclick=\"quickchart('df-f7a272dd-3429-4b6f-b0ec-8cbd88ea05db')\"\n",
              "            title=\"Suggest charts\"\n",
              "            style=\"display:none;\">\n",
              "\n",
              "<svg xmlns=\"http://www.w3.org/2000/svg\" height=\"24px\"viewBox=\"0 0 24 24\"\n",
              "     width=\"24px\">\n",
              "    <g>\n",
              "        <path d=\"M19 3H5c-1.1 0-2 .9-2 2v14c0 1.1.9 2 2 2h14c1.1 0 2-.9 2-2V5c0-1.1-.9-2-2-2zM9 17H7v-7h2v7zm4 0h-2V7h2v10zm4 0h-2v-4h2v4z\"/>\n",
              "    </g>\n",
              "</svg>\n",
              "  </button>\n",
              "\n",
              "<style>\n",
              "  .colab-df-quickchart {\n",
              "      --bg-color: #E8F0FE;\n",
              "      --fill-color: #1967D2;\n",
              "      --hover-bg-color: #E2EBFA;\n",
              "      --hover-fill-color: #174EA6;\n",
              "      --disabled-fill-color: #AAA;\n",
              "      --disabled-bg-color: #DDD;\n",
              "  }\n",
              "\n",
              "  [theme=dark] .colab-df-quickchart {\n",
              "      --bg-color: #3B4455;\n",
              "      --fill-color: #D2E3FC;\n",
              "      --hover-bg-color: #434B5C;\n",
              "      --hover-fill-color: #FFFFFF;\n",
              "      --disabled-bg-color: #3B4455;\n",
              "      --disabled-fill-color: #666;\n",
              "  }\n",
              "\n",
              "  .colab-df-quickchart {\n",
              "    background-color: var(--bg-color);\n",
              "    border: none;\n",
              "    border-radius: 50%;\n",
              "    cursor: pointer;\n",
              "    display: none;\n",
              "    fill: var(--fill-color);\n",
              "    height: 32px;\n",
              "    padding: 0;\n",
              "    width: 32px;\n",
              "  }\n",
              "\n",
              "  .colab-df-quickchart:hover {\n",
              "    background-color: var(--hover-bg-color);\n",
              "    box-shadow: 0 1px 2px rgba(60, 64, 67, 0.3), 0 1px 3px 1px rgba(60, 64, 67, 0.15);\n",
              "    fill: var(--button-hover-fill-color);\n",
              "  }\n",
              "\n",
              "  .colab-df-quickchart-complete:disabled,\n",
              "  .colab-df-quickchart-complete:disabled:hover {\n",
              "    background-color: var(--disabled-bg-color);\n",
              "    fill: var(--disabled-fill-color);\n",
              "    box-shadow: none;\n",
              "  }\n",
              "\n",
              "  .colab-df-spinner {\n",
              "    border: 2px solid var(--fill-color);\n",
              "    border-color: transparent;\n",
              "    border-bottom-color: var(--fill-color);\n",
              "    animation:\n",
              "      spin 1s steps(1) infinite;\n",
              "  }\n",
              "\n",
              "  @keyframes spin {\n",
              "    0% {\n",
              "      border-color: transparent;\n",
              "      border-bottom-color: var(--fill-color);\n",
              "      border-left-color: var(--fill-color);\n",
              "    }\n",
              "    20% {\n",
              "      border-color: transparent;\n",
              "      border-left-color: var(--fill-color);\n",
              "      border-top-color: var(--fill-color);\n",
              "    }\n",
              "    30% {\n",
              "      border-color: transparent;\n",
              "      border-left-color: var(--fill-color);\n",
              "      border-top-color: var(--fill-color);\n",
              "      border-right-color: var(--fill-color);\n",
              "    }\n",
              "    40% {\n",
              "      border-color: transparent;\n",
              "      border-right-color: var(--fill-color);\n",
              "      border-top-color: var(--fill-color);\n",
              "    }\n",
              "    60% {\n",
              "      border-color: transparent;\n",
              "      border-right-color: var(--fill-color);\n",
              "    }\n",
              "    80% {\n",
              "      border-color: transparent;\n",
              "      border-right-color: var(--fill-color);\n",
              "      border-bottom-color: var(--fill-color);\n",
              "    }\n",
              "    90% {\n",
              "      border-color: transparent;\n",
              "      border-bottom-color: var(--fill-color);\n",
              "    }\n",
              "  }\n",
              "</style>\n",
              "\n",
              "  <script>\n",
              "    async function quickchart(key) {\n",
              "      const quickchartButtonEl =\n",
              "        document.querySelector('#' + key + ' button');\n",
              "      quickchartButtonEl.disabled = true;  // To prevent multiple clicks.\n",
              "      quickchartButtonEl.classList.add('colab-df-spinner');\n",
              "      try {\n",
              "        const charts = await google.colab.kernel.invokeFunction(\n",
              "            'suggestCharts', [key], {});\n",
              "      } catch (error) {\n",
              "        console.error('Error during call to suggestCharts:', error);\n",
              "      }\n",
              "      quickchartButtonEl.classList.remove('colab-df-spinner');\n",
              "      quickchartButtonEl.classList.add('colab-df-quickchart-complete');\n",
              "    }\n",
              "    (() => {\n",
              "      let quickchartButtonEl =\n",
              "        document.querySelector('#df-f7a272dd-3429-4b6f-b0ec-8cbd88ea05db button');\n",
              "      quickchartButtonEl.style.display =\n",
              "        google.colab.kernel.accessAllowed ? 'block' : 'none';\n",
              "    })();\n",
              "  </script>\n",
              "</div>\n",
              "\n",
              "    </div>\n",
              "  </div>\n"
            ]
          },
          "metadata": {},
          "execution_count": 75
        }
      ]
    },
    {
      "cell_type": "markdown",
      "source": [
        "### Max sales is **27** while Min sales is **1.6**\n",
        "\n",
        "### Mean of Tv is Highest i.e **147.04** while Radio is Lowest i.e **23.26**"
      ],
      "metadata": {
        "id": "ATs1HU7rqybH"
      }
    },
    {
      "cell_type": "code",
      "source": [
        "#Step 5: Data Cleaning\n",
        "\n",
        "df.isnull().sum() #returns no. of null values\n",
        "\n"
      ],
      "metadata": {
        "colab": {
          "base_uri": "https://localhost:8080/"
        },
        "id": "cfwSdlpzQ3iJ",
        "outputId": "1932ae87-716f-47af-f219-224bc953ccd1"
      },
      "execution_count": 76,
      "outputs": [
        {
          "output_type": "execute_result",
          "data": {
            "text/plain": [
              "TV           0\n",
              "Radio        0\n",
              "Newspaper    0\n",
              "Sales        0\n",
              "dtype: int64"
            ]
          },
          "metadata": {},
          "execution_count": 76
        }
      ]
    },
    {
      "cell_type": "code",
      "source": [
        "df.dropna()   #removes null values and return table"
      ],
      "metadata": {
        "colab": {
          "base_uri": "https://localhost:8080/",
          "height": 423
        },
        "id": "f2dFEi6ViiQy",
        "outputId": "891634ef-31b6-47e1-8069-2f7aca5d55e1"
      },
      "execution_count": 78,
      "outputs": [
        {
          "output_type": "execute_result",
          "data": {
            "text/plain": [
              "        TV  Radio  Newspaper  Sales\n",
              "0    230.1   37.8       69.2   22.1\n",
              "1     44.5   39.3       45.1   10.4\n",
              "2     17.2   45.9       69.3   12.0\n",
              "3    151.5   41.3       58.5   16.5\n",
              "4    180.8   10.8       58.4   17.9\n",
              "..     ...    ...        ...    ...\n",
              "195   38.2    3.7       13.8    7.6\n",
              "196   94.2    4.9        8.1   14.0\n",
              "197  177.0    9.3        6.4   14.8\n",
              "198  283.6   42.0       66.2   25.5\n",
              "199  232.1    8.6        8.7   18.4\n",
              "\n",
              "[200 rows x 4 columns]"
            ],
            "text/html": [
              "\n",
              "  <div id=\"df-d51409af-90e6-4065-b161-22fff239e657\" class=\"colab-df-container\">\n",
              "    <div>\n",
              "<style scoped>\n",
              "    .dataframe tbody tr th:only-of-type {\n",
              "        vertical-align: middle;\n",
              "    }\n",
              "\n",
              "    .dataframe tbody tr th {\n",
              "        vertical-align: top;\n",
              "    }\n",
              "\n",
              "    .dataframe thead th {\n",
              "        text-align: right;\n",
              "    }\n",
              "</style>\n",
              "<table border=\"1\" class=\"dataframe\">\n",
              "  <thead>\n",
              "    <tr style=\"text-align: right;\">\n",
              "      <th></th>\n",
              "      <th>TV</th>\n",
              "      <th>Radio</th>\n",
              "      <th>Newspaper</th>\n",
              "      <th>Sales</th>\n",
              "    </tr>\n",
              "  </thead>\n",
              "  <tbody>\n",
              "    <tr>\n",
              "      <th>0</th>\n",
              "      <td>230.1</td>\n",
              "      <td>37.8</td>\n",
              "      <td>69.2</td>\n",
              "      <td>22.1</td>\n",
              "    </tr>\n",
              "    <tr>\n",
              "      <th>1</th>\n",
              "      <td>44.5</td>\n",
              "      <td>39.3</td>\n",
              "      <td>45.1</td>\n",
              "      <td>10.4</td>\n",
              "    </tr>\n",
              "    <tr>\n",
              "      <th>2</th>\n",
              "      <td>17.2</td>\n",
              "      <td>45.9</td>\n",
              "      <td>69.3</td>\n",
              "      <td>12.0</td>\n",
              "    </tr>\n",
              "    <tr>\n",
              "      <th>3</th>\n",
              "      <td>151.5</td>\n",
              "      <td>41.3</td>\n",
              "      <td>58.5</td>\n",
              "      <td>16.5</td>\n",
              "    </tr>\n",
              "    <tr>\n",
              "      <th>4</th>\n",
              "      <td>180.8</td>\n",
              "      <td>10.8</td>\n",
              "      <td>58.4</td>\n",
              "      <td>17.9</td>\n",
              "    </tr>\n",
              "    <tr>\n",
              "      <th>...</th>\n",
              "      <td>...</td>\n",
              "      <td>...</td>\n",
              "      <td>...</td>\n",
              "      <td>...</td>\n",
              "    </tr>\n",
              "    <tr>\n",
              "      <th>195</th>\n",
              "      <td>38.2</td>\n",
              "      <td>3.7</td>\n",
              "      <td>13.8</td>\n",
              "      <td>7.6</td>\n",
              "    </tr>\n",
              "    <tr>\n",
              "      <th>196</th>\n",
              "      <td>94.2</td>\n",
              "      <td>4.9</td>\n",
              "      <td>8.1</td>\n",
              "      <td>14.0</td>\n",
              "    </tr>\n",
              "    <tr>\n",
              "      <th>197</th>\n",
              "      <td>177.0</td>\n",
              "      <td>9.3</td>\n",
              "      <td>6.4</td>\n",
              "      <td>14.8</td>\n",
              "    </tr>\n",
              "    <tr>\n",
              "      <th>198</th>\n",
              "      <td>283.6</td>\n",
              "      <td>42.0</td>\n",
              "      <td>66.2</td>\n",
              "      <td>25.5</td>\n",
              "    </tr>\n",
              "    <tr>\n",
              "      <th>199</th>\n",
              "      <td>232.1</td>\n",
              "      <td>8.6</td>\n",
              "      <td>8.7</td>\n",
              "      <td>18.4</td>\n",
              "    </tr>\n",
              "  </tbody>\n",
              "</table>\n",
              "<p>200 rows × 4 columns</p>\n",
              "</div>\n",
              "    <div class=\"colab-df-buttons\">\n",
              "\n",
              "  <div class=\"colab-df-container\">\n",
              "    <button class=\"colab-df-convert\" onclick=\"convertToInteractive('df-d51409af-90e6-4065-b161-22fff239e657')\"\n",
              "            title=\"Convert this dataframe to an interactive table.\"\n",
              "            style=\"display:none;\">\n",
              "\n",
              "  <svg xmlns=\"http://www.w3.org/2000/svg\" height=\"24px\" viewBox=\"0 -960 960 960\">\n",
              "    <path d=\"M120-120v-720h720v720H120Zm60-500h600v-160H180v160Zm220 220h160v-160H400v160Zm0 220h160v-160H400v160ZM180-400h160v-160H180v160Zm440 0h160v-160H620v160ZM180-180h160v-160H180v160Zm440 0h160v-160H620v160Z\"/>\n",
              "  </svg>\n",
              "    </button>\n",
              "\n",
              "  <style>\n",
              "    .colab-df-container {\n",
              "      display:flex;\n",
              "      gap: 12px;\n",
              "    }\n",
              "\n",
              "    .colab-df-convert {\n",
              "      background-color: #E8F0FE;\n",
              "      border: none;\n",
              "      border-radius: 50%;\n",
              "      cursor: pointer;\n",
              "      display: none;\n",
              "      fill: #1967D2;\n",
              "      height: 32px;\n",
              "      padding: 0 0 0 0;\n",
              "      width: 32px;\n",
              "    }\n",
              "\n",
              "    .colab-df-convert:hover {\n",
              "      background-color: #E2EBFA;\n",
              "      box-shadow: 0px 1px 2px rgba(60, 64, 67, 0.3), 0px 1px 3px 1px rgba(60, 64, 67, 0.15);\n",
              "      fill: #174EA6;\n",
              "    }\n",
              "\n",
              "    .colab-df-buttons div {\n",
              "      margin-bottom: 4px;\n",
              "    }\n",
              "\n",
              "    [theme=dark] .colab-df-convert {\n",
              "      background-color: #3B4455;\n",
              "      fill: #D2E3FC;\n",
              "    }\n",
              "\n",
              "    [theme=dark] .colab-df-convert:hover {\n",
              "      background-color: #434B5C;\n",
              "      box-shadow: 0px 1px 3px 1px rgba(0, 0, 0, 0.15);\n",
              "      filter: drop-shadow(0px 1px 2px rgba(0, 0, 0, 0.3));\n",
              "      fill: #FFFFFF;\n",
              "    }\n",
              "  </style>\n",
              "\n",
              "    <script>\n",
              "      const buttonEl =\n",
              "        document.querySelector('#df-d51409af-90e6-4065-b161-22fff239e657 button.colab-df-convert');\n",
              "      buttonEl.style.display =\n",
              "        google.colab.kernel.accessAllowed ? 'block' : 'none';\n",
              "\n",
              "      async function convertToInteractive(key) {\n",
              "        const element = document.querySelector('#df-d51409af-90e6-4065-b161-22fff239e657');\n",
              "        const dataTable =\n",
              "          await google.colab.kernel.invokeFunction('convertToInteractive',\n",
              "                                                    [key], {});\n",
              "        if (!dataTable) return;\n",
              "\n",
              "        const docLinkHtml = 'Like what you see? Visit the ' +\n",
              "          '<a target=\"_blank\" href=https://colab.research.google.com/notebooks/data_table.ipynb>data table notebook</a>'\n",
              "          + ' to learn more about interactive tables.';\n",
              "        element.innerHTML = '';\n",
              "        dataTable['output_type'] = 'display_data';\n",
              "        await google.colab.output.renderOutput(dataTable, element);\n",
              "        const docLink = document.createElement('div');\n",
              "        docLink.innerHTML = docLinkHtml;\n",
              "        element.appendChild(docLink);\n",
              "      }\n",
              "    </script>\n",
              "  </div>\n",
              "\n",
              "\n",
              "<div id=\"df-76463a39-7986-49f5-9684-38edf62ab743\">\n",
              "  <button class=\"colab-df-quickchart\" onclick=\"quickchart('df-76463a39-7986-49f5-9684-38edf62ab743')\"\n",
              "            title=\"Suggest charts\"\n",
              "            style=\"display:none;\">\n",
              "\n",
              "<svg xmlns=\"http://www.w3.org/2000/svg\" height=\"24px\"viewBox=\"0 0 24 24\"\n",
              "     width=\"24px\">\n",
              "    <g>\n",
              "        <path d=\"M19 3H5c-1.1 0-2 .9-2 2v14c0 1.1.9 2 2 2h14c1.1 0 2-.9 2-2V5c0-1.1-.9-2-2-2zM9 17H7v-7h2v7zm4 0h-2V7h2v10zm4 0h-2v-4h2v4z\"/>\n",
              "    </g>\n",
              "</svg>\n",
              "  </button>\n",
              "\n",
              "<style>\n",
              "  .colab-df-quickchart {\n",
              "      --bg-color: #E8F0FE;\n",
              "      --fill-color: #1967D2;\n",
              "      --hover-bg-color: #E2EBFA;\n",
              "      --hover-fill-color: #174EA6;\n",
              "      --disabled-fill-color: #AAA;\n",
              "      --disabled-bg-color: #DDD;\n",
              "  }\n",
              "\n",
              "  [theme=dark] .colab-df-quickchart {\n",
              "      --bg-color: #3B4455;\n",
              "      --fill-color: #D2E3FC;\n",
              "      --hover-bg-color: #434B5C;\n",
              "      --hover-fill-color: #FFFFFF;\n",
              "      --disabled-bg-color: #3B4455;\n",
              "      --disabled-fill-color: #666;\n",
              "  }\n",
              "\n",
              "  .colab-df-quickchart {\n",
              "    background-color: var(--bg-color);\n",
              "    border: none;\n",
              "    border-radius: 50%;\n",
              "    cursor: pointer;\n",
              "    display: none;\n",
              "    fill: var(--fill-color);\n",
              "    height: 32px;\n",
              "    padding: 0;\n",
              "    width: 32px;\n",
              "  }\n",
              "\n",
              "  .colab-df-quickchart:hover {\n",
              "    background-color: var(--hover-bg-color);\n",
              "    box-shadow: 0 1px 2px rgba(60, 64, 67, 0.3), 0 1px 3px 1px rgba(60, 64, 67, 0.15);\n",
              "    fill: var(--button-hover-fill-color);\n",
              "  }\n",
              "\n",
              "  .colab-df-quickchart-complete:disabled,\n",
              "  .colab-df-quickchart-complete:disabled:hover {\n",
              "    background-color: var(--disabled-bg-color);\n",
              "    fill: var(--disabled-fill-color);\n",
              "    box-shadow: none;\n",
              "  }\n",
              "\n",
              "  .colab-df-spinner {\n",
              "    border: 2px solid var(--fill-color);\n",
              "    border-color: transparent;\n",
              "    border-bottom-color: var(--fill-color);\n",
              "    animation:\n",
              "      spin 1s steps(1) infinite;\n",
              "  }\n",
              "\n",
              "  @keyframes spin {\n",
              "    0% {\n",
              "      border-color: transparent;\n",
              "      border-bottom-color: var(--fill-color);\n",
              "      border-left-color: var(--fill-color);\n",
              "    }\n",
              "    20% {\n",
              "      border-color: transparent;\n",
              "      border-left-color: var(--fill-color);\n",
              "      border-top-color: var(--fill-color);\n",
              "    }\n",
              "    30% {\n",
              "      border-color: transparent;\n",
              "      border-left-color: var(--fill-color);\n",
              "      border-top-color: var(--fill-color);\n",
              "      border-right-color: var(--fill-color);\n",
              "    }\n",
              "    40% {\n",
              "      border-color: transparent;\n",
              "      border-right-color: var(--fill-color);\n",
              "      border-top-color: var(--fill-color);\n",
              "    }\n",
              "    60% {\n",
              "      border-color: transparent;\n",
              "      border-right-color: var(--fill-color);\n",
              "    }\n",
              "    80% {\n",
              "      border-color: transparent;\n",
              "      border-right-color: var(--fill-color);\n",
              "      border-bottom-color: var(--fill-color);\n",
              "    }\n",
              "    90% {\n",
              "      border-color: transparent;\n",
              "      border-bottom-color: var(--fill-color);\n",
              "    }\n",
              "  }\n",
              "</style>\n",
              "\n",
              "  <script>\n",
              "    async function quickchart(key) {\n",
              "      const quickchartButtonEl =\n",
              "        document.querySelector('#' + key + ' button');\n",
              "      quickchartButtonEl.disabled = true;  // To prevent multiple clicks.\n",
              "      quickchartButtonEl.classList.add('colab-df-spinner');\n",
              "      try {\n",
              "        const charts = await google.colab.kernel.invokeFunction(\n",
              "            'suggestCharts', [key], {});\n",
              "      } catch (error) {\n",
              "        console.error('Error during call to suggestCharts:', error);\n",
              "      }\n",
              "      quickchartButtonEl.classList.remove('colab-df-spinner');\n",
              "      quickchartButtonEl.classList.add('colab-df-quickchart-complete');\n",
              "    }\n",
              "    (() => {\n",
              "      let quickchartButtonEl =\n",
              "        document.querySelector('#df-76463a39-7986-49f5-9684-38edf62ab743 button');\n",
              "      quickchartButtonEl.style.display =\n",
              "        google.colab.kernel.accessAllowed ? 'block' : 'none';\n",
              "    })();\n",
              "  </script>\n",
              "</div>\n",
              "\n",
              "    </div>\n",
              "  </div>\n"
            ]
          },
          "metadata": {},
          "execution_count": 78
        }
      ]
    },
    {
      "cell_type": "markdown",
      "source": [
        "# **Visualization of Dataset :-**"
      ],
      "metadata": {
        "id": "jhg93AQxjHTo"
      }
    },
    {
      "cell_type": "code",
      "source": [
        "#Step 6: Visualization using graphs\n",
        "\n",
        "#scatter graph\n",
        "\n",
        "plt.scatter(np.array(df['TV']),np.array(df['Sales']),color=\"red\")\n",
        "plt.title(\"TV vs SALES\")\n",
        "plt.xlabel(\"TV Advertising\")\n",
        "plt.ylabel(\"Sales\")\n",
        "plt.show()\n",
        "print(\"\\n\\n\")\n",
        "plt.scatter(np.array(df['Radio']),np.array(df['Sales']),color=\"red\")\n",
        "plt.title(\"Radio vs SALES\")\n",
        "plt.xlabel(\"Radio Advertising\")\n",
        "plt.ylabel(\"Sales\")\n",
        "plt.show()\n",
        "print(\"\\n\\n\")\n",
        "plt.scatter(np.array(df['Newspaper']),np.array(df['Sales']),color=\"red\")\n",
        "plt.title(\"Newspaper vs SALES\")\n",
        "plt.xlabel(\"Newspaper Advertising\")\n",
        "plt.ylabel(\"Sales\")\n",
        "plt.show()"
      ],
      "metadata": {
        "colab": {
          "base_uri": "https://localhost:8080/",
          "height": 1000
        },
        "id": "xZ5wpNePR_eW",
        "outputId": "703547e5-cec3-4b48-c04f-cfb7d84426c2"
      },
      "execution_count": 102,
      "outputs": [
        {
          "output_type": "display_data",
          "data": {
            "text/plain": [
              "<Figure size 640x480 with 1 Axes>"
            ],
            "image/png": "[encoded data removed]"
          },
          "metadata": {}
        },
        {
          "output_type": "stream",
          "name": "stdout",
          "text": [
            "\n",
            "\n",
            "\n"
          ]
        },
        {
          "output_type": "display_data",
          "data": {
            "text/plain": [
              "<Figure size 640x480 with 1 Axes>"
            ],
            "image/png": "[encoded data removed]"
          },
          "metadata": {}
        },
        {
          "output_type": "stream",
          "name": "stdout",
          "text": [
            "\n",
            "\n",
            "\n"
          ]
        },
        {
          "output_type": "display_data",
          "data": {
            "text/plain": [
              "<Figure size 640x480 with 1 Axes>"
            ],
            "image/png": "[encoded data removed]"
          },
          "metadata": {}
        }
      ]
    },
    {
      "cell_type": "markdown",
      "source": [
        "According, to given scatter graphs\n",
        "\n",
        "TV vs Sales ----> High degree +ve correlation\n",
        "\n",
        " Radio vs Sales ----> No Correlation\n",
        "\n",
        "Newspaper vs Sales ----> No Correlation\n",
        "\n",
        "### It is clearly observed that when TV advertising increases , sales also increases\n",
        "\n",
        "### But for Radio and Newspaper it is difficult to understand and conclude"
      ],
      "metadata": {
        "id": "fQ5eKYo_jMwK"
      }
    },
    {
      "cell_type": "code",
      "source": [
        "#studying correct scatter graph\n",
        "\n",
        "plt.scatter(np.array(df['TV']),np.array(df['Sales']),color=\"red\")\n",
        "plt.title(\"TV vs SALES\")\n",
        "plt.xlabel(\"TV Advertising\")\n",
        "plt.ylabel(\"Sales\")\n",
        "plt.show()"
      ],
      "metadata": {
        "colab": {
          "base_uri": "https://localhost:8080/",
          "height": 472
        },
        "id": "OIZsg1hxgZxf",
        "outputId": "7319f122-8080-47aa-dd42-7a79f0d07a45"
      },
      "execution_count": 103,
      "outputs": [
        {
          "output_type": "display_data",
          "data": {
            "text/plain": [
              "<Figure size 640x480 with 1 Axes>"
            ],
            "image/png": "[encoded data removed]"
          },
          "metadata": {}
        }
      ]
    },
    {
      "cell_type": "markdown",
      "source": [
        "### The scatter graph illustrates the relationship between TV advertising expenditures and sales in our advertising dataset. Each point on the graph represents a data entry, plotting TV spending on the x-axis against sales on the y-axis."
      ],
      "metadata": {
        "id": "EqcHWFTBmfmB"
      }
    },
    {
      "cell_type": "markdown",
      "source": [
        "# **MACHINE LEARNING ALGORITHM USED IS LINEAR REGRESSION**"
      ],
      "metadata": {
        "id": "fGts7dLam8X6"
      }
    },
    {
      "cell_type": "code",
      "source": [
        "#Step 7: Split the dataset into training and testing set\n",
        "\n",
        "x_train,x_test,y_train,y_test=train_test_split(x,y,test_size=0.3,random_state=15)\n"
      ],
      "metadata": {
        "id": "QLvEVGHqUCWn"
      },
      "execution_count": 36,
      "outputs": []
    },
    {
      "cell_type": "markdown",
      "source": [
        "Here, **70%** dataset used Training &   **30%** dataset used for Testing"
      ],
      "metadata": {
        "id": "rImtF9iWsGqS"
      }
    },
    {
      "cell_type": "code",
      "source": [
        "print(x_train)"
      ],
      "metadata": {
        "colab": {
          "base_uri": "https://localhost:8080/"
        },
        "id": "gAAUA-h4nHaK",
        "outputId": "c388a3c1-792d-4e3a-a187-1d714670b895"
      },
      "execution_count": 80,
      "outputs": [
        {
          "output_type": "stream",
          "name": "stdout",
          "text": [
            "[[184.9]\n",
            " [218.4]\n",
            " [284.3]\n",
            " [273.7]\n",
            " [218.5]\n",
            " [214.7]\n",
            " [227.2]\n",
            " [287.6]\n",
            " [151.5]\n",
            " [210.7]\n",
            " [  8.7]\n",
            " [ 97.5]\n",
            " [237.4]\n",
            " [230.1]\n",
            " [171.3]\n",
            " [ 13.1]\n",
            " [240.1]\n",
            " [109.8]\n",
            " [165.6]\n",
            " [222.4]\n",
            " [102.7]\n",
            " [193.7]\n",
            " [289.7]\n",
            " [261.3]\n",
            " [120.5]\n",
            " [206.9]\n",
            " [ 17.9]\n",
            " [205. ]\n",
            " [  8.6]\n",
            " [ 53.5]\n",
            " [ 36.9]\n",
            " [ 18.8]\n",
            " [107.4]\n",
            " [ 95.7]\n",
            " [232.1]\n",
            " [ 94.2]\n",
            " [ 97.2]\n",
            " [ 76.4]\n",
            " [170.2]\n",
            " [156.6]\n",
            " [139.3]\n",
            " [241.7]\n",
            " [276.7]\n",
            " [163.5]\n",
            " [255.4]\n",
            " [216.4]\n",
            " [ 59.6]\n",
            " [217.7]\n",
            " [224. ]\n",
            " [ 75.3]\n",
            " [204.1]\n",
            " [123.1]\n",
            " [ 43.1]\n",
            " [ 89.7]\n",
            " [164.5]\n",
            " [229.5]\n",
            " [175.7]\n",
            " [129.4]\n",
            " [131.1]\n",
            " [262.7]\n",
            " [216.8]\n",
            " [ 87.2]\n",
            " [187.9]\n",
            " [290.7]\n",
            " [213.5]\n",
            " [248.8]\n",
            " [ 11.7]\n",
            " [199.1]\n",
            " [ 38. ]\n",
            " [265.2]\n",
            " [ 67.8]\n",
            " [  8.4]\n",
            " [134.3]\n",
            " [ 69.2]\n",
            " [110.7]\n",
            " [139.5]\n",
            " [100.4]\n",
            " [239.8]\n",
            " [293.6]\n",
            " [  0.7]\n",
            " [265.6]\n",
            " [140.3]\n",
            " [  7.8]\n",
            " [225.8]\n",
            " [ 88.3]\n",
            " [ 27.5]\n",
            " [ 70.6]\n",
            " [117.2]\n",
            " [177. ]\n",
            " [191.1]\n",
            " [ 68.4]\n",
            " [175.1]\n",
            " [ 62.3]\n",
            " [ 48.3]\n",
            " [ 31.5]\n",
            " [120.2]\n",
            " [180.8]\n",
            " [135.2]\n",
            " [ 38.2]\n",
            " [222.4]\n",
            " [238.2]\n",
            " [ 13.2]\n",
            " [206.8]\n",
            " [177. ]\n",
            " [182.6]\n",
            " [199.8]\n",
            " [ 16.9]\n",
            " [188.4]\n",
            " [187.8]\n",
            " [166.8]\n",
            " [197.6]\n",
            " [ 18.7]\n",
            " [ 44.5]\n",
            " [ 78.2]\n",
            " [  7.3]\n",
            " [195.4]\n",
            " [280.2]\n",
            " [116. ]\n",
            " [149.8]\n",
            " [ 25.1]\n",
            " [147.3]\n",
            " [ 74.7]\n",
            " [228. ]\n",
            " [137.9]\n",
            " [104.6]\n",
            " [ 66.1]\n",
            " [239.3]\n",
            " [172.5]\n",
            " [228.3]\n",
            " [131.7]\n",
            " [281.4]\n",
            " [276.9]\n",
            " [125.7]\n",
            " [193.2]\n",
            " [  4.1]\n",
            " [ 93.9]\n",
            " [220.3]\n",
            " [ 19.4]\n",
            " [219.8]\n",
            " [ 73.4]]\n"
          ]
        }
      ]
    },
    {
      "cell_type": "code",
      "source": [
        "print(y_train)"
      ],
      "metadata": {
        "colab": {
          "base_uri": "https://localhost:8080/"
        },
        "id": "G9VCZelZe2ee",
        "outputId": "6060c02d-0d21-4bf7-8ca6-79c554b58af9"
      },
      "execution_count": 64,
      "outputs": [
        {
          "output_type": "stream",
          "name": "stdout",
          "text": [
            "[[20.5]\n",
            " [18. ]\n",
            " [20. ]\n",
            " [20.8]\n",
            " [17.2]\n",
            " [17.4]\n",
            " [19.8]\n",
            " [26.2]\n",
            " [16.5]\n",
            " [18.4]\n",
            " [ 7.2]\n",
            " [13.7]\n",
            " [18.9]\n",
            " [22.1]\n",
            " [16. ]\n",
            " [ 5.3]\n",
            " [20.9]\n",
            " [16.7]\n",
            " [17.6]\n",
            " [16.7]\n",
            " [14. ]\n",
            " [19.2]\n",
            " [25.4]\n",
            " [24.2]\n",
            " [14.2]\n",
            " [17.9]\n",
            " [ 8. ]\n",
            " [22.6]\n",
            " [ 4.8]\n",
            " [ 8.1]\n",
            " [10.8]\n",
            " [ 7. ]\n",
            " [11.5]\n",
            " [11.9]\n",
            " [18.4]\n",
            " [14. ]\n",
            " [13.2]\n",
            " [11.8]\n",
            " [16.7]\n",
            " [15.5]\n",
            " [13.4]\n",
            " [21.8]\n",
            " [16.8]\n",
            " [18. ]\n",
            " [19.8]\n",
            " [22.6]\n",
            " [ 9.7]\n",
            " [19.4]\n",
            " [16.6]\n",
            " [11.3]\n",
            " [19. ]\n",
            " [15.2]\n",
            " [10.1]\n",
            " [10.6]\n",
            " [17.5]\n",
            " [19.7]\n",
            " [17.1]\n",
            " [11. ]\n",
            " [16. ]\n",
            " [20.2]\n",
            " [22.3]\n",
            " [10.6]\n",
            " [19.7]\n",
            " [17.8]\n",
            " [21.7]\n",
            " [18.9]\n",
            " [ 7.3]\n",
            " [18.3]\n",
            " [10.9]\n",
            " [17.7]\n",
            " [12.5]\n",
            " [ 5.7]\n",
            " [14. ]\n",
            " [11.3]\n",
            " [16. ]\n",
            " [10.3]\n",
            " [10.7]\n",
            " [17.3]\n",
            " [20.7]\n",
            " [ 1.6]\n",
            " [17.4]\n",
            " [10.3]\n",
            " [ 6.6]\n",
            " [18.4]\n",
            " [12.9]\n",
            " [ 6.9]\n",
            " [10.5]\n",
            " [11.9]\n",
            " [14.8]\n",
            " [17.3]\n",
            " [13.6]\n",
            " [16.1]\n",
            " [ 9.7]\n",
            " [11.6]\n",
            " [11. ]\n",
            " [13.2]\n",
            " [17.9]\n",
            " [17.2]\n",
            " [ 7.6]\n",
            " [16.5]\n",
            " [20.7]\n",
            " [ 5.6]\n",
            " [17.2]\n",
            " [17.1]\n",
            " [21.2]\n",
            " [16.4]\n",
            " [ 8.7]\n",
            " [19.9]\n",
            " [20.6]\n",
            " [19.6]\n",
            " [16.7]\n",
            " [ 6.7]\n",
            " [10.4]\n",
            " [14.6]\n",
            " [ 5.5]\n",
            " [22.4]\n",
            " [19.8]\n",
            " [11. ]\n",
            " [10.1]\n",
            " [ 8.5]\n",
            " [14.6]\n",
            " [14.7]\n",
            " [21.5]\n",
            " [15. ]\n",
            " [10.4]\n",
            " [12.6]\n",
            " [20.7]\n",
            " [16.4]\n",
            " [20.5]\n",
            " [12.9]\n",
            " [24.4]\n",
            " [27. ]\n",
            " [15.9]\n",
            " [20.2]\n",
            " [ 3.2]\n",
            " [15.3]\n",
            " [24.7]\n",
            " [ 6.6]\n",
            " [19.6]\n",
            " [10.9]]\n"
          ]
        }
      ]
    },
    {
      "cell_type": "code",
      "source": [
        "print(x_test)"
      ],
      "metadata": {
        "colab": {
          "base_uri": "https://localhost:8080/"
        },
        "id": "tL6z98GQe8dI",
        "outputId": "d9092e9d-bf69-4ef9-bf28-2107cbe07041"
      },
      "execution_count": 65,
      "outputs": [
        {
          "output_type": "stream",
          "name": "stdout",
          "text": [
            "[[ 66.9]\n",
            " [ 75.5]\n",
            " [ 23.8]\n",
            " [ 19.6]\n",
            " [ 80.2]\n",
            " [202.5]\n",
            " [292.9]\n",
            " [ 50. ]\n",
            " [ 43. ]\n",
            " [136.2]\n",
            " [ 17.2]\n",
            " [ 26.8]\n",
            " [280.7]\n",
            " [240.1]\n",
            " [210.8]\n",
            " [142.9]\n",
            " [199.8]\n",
            " [ 75.1]\n",
            " [253.8]\n",
            " [283.6]\n",
            " [ 76.4]\n",
            " [266.9]\n",
            " [ 90.4]\n",
            " [209.6]\n",
            " [234.5]\n",
            " [ 85.7]\n",
            " [243.2]\n",
            " [ 69. ]\n",
            " [141.3]\n",
            " [237.4]\n",
            " [ 28.6]\n",
            " [286. ]\n",
            " [ 25.6]\n",
            " [109.8]\n",
            " [184.9]\n",
            " [ 17.2]\n",
            " [ 76.3]\n",
            " [139.2]\n",
            " [250.9]\n",
            " [ 25. ]\n",
            " [239.9]\n",
            " [220.5]\n",
            " [ 44.7]\n",
            " [197.6]\n",
            " [ 56.2]\n",
            " [  5.4]\n",
            " [198.9]\n",
            " [262.9]\n",
            " [215.4]\n",
            " [149.7]\n",
            " [ 57.5]\n",
            " [163.3]\n",
            " [296.4]\n",
            " [121. ]\n",
            " [ 39.5]\n",
            " [168.4]\n",
            " [112.9]\n",
            " [213.4]\n",
            " [248.4]\n",
            " [ 96.2]]\n"
          ]
        }
      ]
    },
    {
      "cell_type": "code",
      "source": [
        "print(y_test)"
      ],
      "metadata": {
        "colab": {
          "base_uri": "https://localhost:8080/"
        },
        "id": "SBsdNpFne-dC",
        "outputId": "2ded281b-899c-4dee-fd21-92c219404862"
      },
      "execution_count": 66,
      "outputs": [
        {
          "output_type": "stream",
          "name": "stdout",
          "text": [
            "[[ 9.7]\n",
            " [11.9]\n",
            " [ 9.2]\n",
            " [ 7.6]\n",
            " [11.9]\n",
            " [16.6]\n",
            " [21.4]\n",
            " [ 8.4]\n",
            " [ 9.6]\n",
            " [13.2]\n",
            " [ 5.9]\n",
            " [ 8.8]\n",
            " [16.1]\n",
            " [18.2]\n",
            " [23.8]\n",
            " [15. ]\n",
            " [15.6]\n",
            " [12.6]\n",
            " [17.6]\n",
            " [25.5]\n",
            " [ 9.4]\n",
            " [25.4]\n",
            " [12. ]\n",
            " [20.9]\n",
            " [16.9]\n",
            " [13.3]\n",
            " [25.4]\n",
            " [11.3]\n",
            " [15.5]\n",
            " [17.5]\n",
            " [ 7.3]\n",
            " [20.9]\n",
            " [ 9.5]\n",
            " [12.4]\n",
            " [20.7]\n",
            " [12. ]\n",
            " [12. ]\n",
            " [12.2]\n",
            " [22.2]\n",
            " [ 7.2]\n",
            " [23.2]\n",
            " [20.1]\n",
            " [10.1]\n",
            " [16.6]\n",
            " [ 8.7]\n",
            " [ 5.3]\n",
            " [23.7]\n",
            " [17. ]\n",
            " [17.1]\n",
            " [17.3]\n",
            " [11.8]\n",
            " [16.9]\n",
            " [23.8]\n",
            " [11.6]\n",
            " [10.8]\n",
            " [16.7]\n",
            " [11.9]\n",
            " [17. ]\n",
            " [20.2]\n",
            " [12.3]]\n"
          ]
        }
      ]
    },
    {
      "cell_type": "code",
      "source": [
        "# Step 8: Performing Simple Linear Regression\n",
        "\n",
        "linear_model=LinearRegression()\n",
        "linear_model.fit(x_train,y_train)"
      ],
      "metadata": {
        "colab": {
          "base_uri": "https://localhost:8080/",
          "height": 74
        },
        "id": "j2E0F5G5UVOH",
        "outputId": "d9b4e4dc-05fc-40c6-8b51-0059a716eb72"
      },
      "execution_count": 89,
      "outputs": [
        {
          "output_type": "execute_result",
          "data": {
            "text/plain": [
              "LinearRegression()"
            ],
            "text/html": [
              "<style>#sk-container-id-3 {color: black;background-color: white;}#sk-container-id-3 pre{padding: 0;}#sk-container-id-3 div.sk-toggleable {background-color: white;}#sk-container-id-3 label.sk-toggleable__label {cursor: pointer;display: block;width: 100%;margin-bottom: 0;padding: 0.3em;box-sizing: border-box;text-align: center;}#sk-container-id-3 label.sk-toggleable__label-arrow:before {content: \"▸\";float: left;margin-right: 0.25em;color: #696969;}#sk-container-id-3 label.sk-toggleable__label-arrow:hover:before {color: black;}#sk-container-id-3 div.sk-estimator:hover label.sk-toggleable__label-arrow:before {color: black;}#sk-container-id-3 div.sk-toggleable__content {max-height: 0;max-width: 0;overflow: hidden;text-align: left;background-color: #f0f8ff;}#sk-container-id-3 div.sk-toggleable__content pre {margin: 0.2em;color: black;border-radius: 0.25em;background-color: #f0f8ff;}#sk-container-id-3 input.sk-toggleable__control:checked~div.sk-toggleable__content {max-height: 200px;max-width: 100%;overflow: auto;}#sk-container-id-3 input.sk-toggleable__control:checked~label.sk-toggleable__label-arrow:before {content: \"▾\";}#sk-container-id-3 div.sk-estimator input.sk-toggleable__control:checked~label.sk-toggleable__label {background-color: #d4ebff;}#sk-container-id-3 div.sk-label input.sk-toggleable__control:checked~label.sk-toggleable__label {background-color: #d4ebff;}#sk-container-id-3 input.sk-hidden--visually {border: 0;clip: rect(1px 1px 1px 1px);clip: rect(1px, 1px, 1px, 1px);height: 1px;margin: -1px;overflow: hidden;padding: 0;position: absolute;width: 1px;}#sk-container-id-3 div.sk-estimator {font-family: monospace;background-color: #f0f8ff;border: 1px dotted black;border-radius: 0.25em;box-sizing: border-box;margin-bottom: 0.5em;}#sk-container-id-3 div.sk-estimator:hover {background-color: #d4ebff;}#sk-container-id-3 div.sk-parallel-item::after {content: \"\";width: 100%;border-bottom: 1px solid gray;flex-grow: 1;}#sk-container-id-3 div.sk-label:hover label.sk-toggleable__label {background-color: #d4ebff;}#sk-container-id-3 div.sk-serial::before {content: \"\";position: absolute;border-left: 1px solid gray;box-sizing: border-box;top: 0;bottom: 0;left: 50%;z-index: 0;}#sk-container-id-3 div.sk-serial {display: flex;flex-direction: column;align-items: center;background-color: white;padding-right: 0.2em;padding-left: 0.2em;position: relative;}#sk-container-id-3 div.sk-item {position: relative;z-index: 1;}#sk-container-id-3 div.sk-parallel {display: flex;align-items: stretch;justify-content: center;background-color: white;position: relative;}#sk-container-id-3 div.sk-item::before, #sk-container-id-3 div.sk-parallel-item::before {content: \"\";position: absolute;border-left: 1px solid gray;box-sizing: border-box;top: 0;bottom: 0;left: 50%;z-index: -1;}#sk-container-id-3 div.sk-parallel-item {display: flex;flex-direction: column;z-index: 1;position: relative;background-color: white;}#sk-container-id-3 div.sk-parallel-item:first-child::after {align-self: flex-end;width: 50%;}#sk-container-id-3 div.sk-parallel-item:last-child::after {align-self: flex-start;width: 50%;}#sk-container-id-3 div.sk-parallel-item:only-child::after {width: 0;}#sk-container-id-3 div.sk-dashed-wrapped {border: 1px dashed gray;margin: 0 0.4em 0.5em 0.4em;box-sizing: border-box;padding-bottom: 0.4em;background-color: white;}#sk-container-id-3 div.sk-label label {font-family: monospace;font-weight: bold;display: inline-block;line-height: 1.2em;}#sk-container-id-3 div.sk-label-container {text-align: center;}#sk-container-id-3 div.sk-container {/* jupyter's `normalize.less` sets `[hidden] { display: none; }` but bootstrap.min.css set `[hidden] { display: none !important; }` so we also need the `!important` here to be able to override the default hidden behavior on the sphinx rendered scikit-learn.org. See: https://github.com/scikit-learn/scikit-learn/issues/21755 */display: inline-block !important;position: relative;}#sk-container-id-3 div.sk-text-repr-fallback {display: none;}</style><div id=\"sk-container-id-3\" class=\"sk-top-container\"><div class=\"sk-text-repr-fallback\"><pre>LinearRegression()</pre><b>In a Jupyter environment, please rerun this cell to show the HTML representation or trust the notebook. <br />On GitHub, the HTML representation is unable to render, please try loading this page with nbviewer.org.</b></div><div class=\"sk-container\" hidden><div class=\"sk-item\"><div class=\"sk-estimator sk-toggleable\"><input class=\"sk-toggleable__control sk-hidden--visually\" id=\"sk-estimator-id-3\" type=\"checkbox\" checked><label for=\"sk-estimator-id-3\" class=\"sk-toggleable__label sk-toggleable__label-arrow\">LinearRegression</label><div class=\"sk-toggleable__content\"><pre>LinearRegression()</pre></div></div></div></div></div>"
            ]
          },
          "metadata": {},
          "execution_count": 89
        }
      ]
    },
    {
      "cell_type": "code",
      "source": [
        "# Step 9: Residual Analysis\n",
        "\n",
        "#check results of model fitting to know whether the model is satisfactory\n",
        "\n",
        "plt.scatter(x_test,y_test,color=\"red\")\n",
        "plt.plot(x_train,regressor.predict(x_train),color=\"black\",linewidth=3)\n",
        "plt.title(\"Regression (Test Set)\")\n",
        "plt.xlabel(\"TV Advertising\")\n",
        "plt.ylabel(\"Sales Advertising\")\n",
        "plt.show()\n",
        "\n",
        "print(\"\\n\\n\")\n",
        "\n",
        "plt.scatter(x_train,y_train,color=\"blue\")\n",
        "plt.plot(x_train,regressor.predict(x_train),color=\"black\",linewidth=3)\n",
        "plt.title(\"Regression (Train Set)\")\n",
        "plt.xlabel(\"TV Advertising\")\n",
        "plt.ylabel(\"Sales Advertising\")\n",
        "plt.show()"
      ],
      "metadata": {
        "colab": {
          "base_uri": "https://localhost:8080/",
          "height": 979
        },
        "id": "xFWrciS0UlXk",
        "outputId": "750642d3-e91b-40b3-f660-4c4e2875cffd"
      },
      "execution_count": 59,
      "outputs": [
        {
          "output_type": "display_data",
          "data": {
            "text/plain": [
              "<Figure size 640x480 with 1 Axes>"
            ],
            "image/png": "[encoded data removed]"
          },
          "metadata": {}
        },
        {
          "output_type": "stream",
          "name": "stdout",
          "text": [
            "\n",
            "\n",
            "\n"
          ]
        },
        {
          "output_type": "display_data",
          "data": {
            "text/plain": [
              "<Figure size 640x480 with 1 Axes>"
            ],
            "image/png": "[encoded data removed]"
          },
          "metadata": {}
        }
      ]
    },
    {
      "cell_type": "markdown",
      "source": [
        "### Here, we plot firstly x_test, y_test datasets and regression line and secondly we plot x_train, y_train scatterplot graph with best-fit regression line\n",
        "\n",
        "### Here we can clearly understand the regression line"
      ],
      "metadata": {
        "id": "VK7I6AVIoFzn"
      }
    },
    {
      "cell_type": "code",
      "source": [
        "# Step 10: Make predictions on the test set\n",
        "\n",
        "y_pred=linear_model.predict(x_test)\n",
        "\n",
        "print(y_pred)\n",
        "\n",
        "\n"
      ],
      "metadata": {
        "colab": {
          "base_uri": "https://localhost:8080/"
        },
        "id": "wGcxPlEvVcgx",
        "outputId": "6f9ac6b4-d1eb-4eb6-f02f-745c19d2c5c9"
      },
      "execution_count": 92,
      "outputs": [
        {
          "output_type": "stream",
          "name": "stdout",
          "text": [
            "[[10.62422701]\n",
            " [11.10941936]\n",
            " [ 8.19262349]\n",
            " [ 7.95566909]\n",
            " [11.37458262]\n",
            " [18.27446918]\n",
            " [23.37463063]\n",
            " [ 9.67076763]\n",
            " [ 9.27584362]\n",
            " [14.53397467]\n",
            " [ 7.82026657]\n",
            " [ 8.36187664]\n",
            " [22.68633451]\n",
            " [20.39577527]\n",
            " [18.74273622]\n",
            " [14.91197336]\n",
            " [18.12214135]\n",
            " [11.08685228]\n",
            " [21.16869797]\n",
            " [22.84994588]\n",
            " [11.16019531]\n",
            " [21.90777004]\n",
            " [11.95004332]\n",
            " [18.67503496]\n",
            " [20.07983607]\n",
            " [11.68488006]\n",
            " [20.57067019]\n",
            " [10.74270421]\n",
            " [14.82170502]\n",
            " [20.24344744]\n",
            " [ 8.46342852]\n",
            " [22.9853484 ]\n",
            " [ 8.29417538]\n",
            " [13.04454699]\n",
            " [17.2815174 ]\n",
            " [ 7.82026657]\n",
            " [11.15455354]\n",
            " [14.70322782]\n",
            " [21.0050866 ]\n",
            " [ 8.26032475]\n",
            " [20.38449173]\n",
            " [19.28998806]\n",
            " [ 9.37175374]\n",
            " [17.99802238]\n",
            " [10.02055746]\n",
            " [ 7.15453753]\n",
            " [18.07136541]\n",
            " [21.68209918]\n",
            " [19.00225771]\n",
            " [15.29561383]\n",
            " [10.09390049]\n",
            " [16.06289475]\n",
            " [23.57209263]\n",
            " [13.6764254 ]\n",
            " [ 9.07838162]\n",
            " [16.3506251 ]\n",
            " [13.21944191]\n",
            " [18.88942228]\n",
            " [20.86404231]\n",
            " [12.27726607]]\n"
          ]
        }
      ]
    },
    {
      "cell_type": "code",
      "source": [
        "# Step 11: Print results\n",
        "\n",
        "print(\"R2 score:%.2f\" % r2_score(y_test,y_pred))\n",
        "\n",
        "print(\"Mean Error:\",mean_squared_error(y_test,y_pred))\n",
        "\n",
        "\n",
        "\n",
        "\n"
      ],
      "metadata": {
        "colab": {
          "base_uri": "https://localhost:8080/"
        },
        "id": "5EttSAoZpBDa",
        "outputId": "b0c7f90b-3a92-4069-af87-95ff3b9352c7"
      },
      "execution_count": 88,
      "outputs": [
        {
          "output_type": "stream",
          "name": "stdout",
          "text": [
            "R2 score:0.81\n",
            "Mean Error: 5.405403017371825\n"
          ]
        }
      ]
    },
    {
      "cell_type": "markdown",
      "source": [
        "# **ACCURACY PREDICTED = 81%**"
      ],
      "metadata": {
        "id": "wUQKugzoSp82"
      }
    },
    {
      "cell_type": "code",
      "source": [
        "#Step 12: Testing model\n",
        "\n",
        "a=linear_model.coef_\n",
        "b=linear_model.intercept_\n",
        "c=float(input(\"Enter x_test value:\"))  #returns corresponding y_pred value (sales)\n",
        "print(a*c+b)"
      ],
      "metadata": {
        "colab": {
          "base_uri": "https://localhost:8080/"
        },
        "id": "F9uH2kMYtBHK",
        "outputId": "5f85ca17-24c3-4178-d361-98584a6d6d48"
      },
      "execution_count": 101,
      "outputs": [
        {
          "output_type": "stream",
          "name": "stdout",
          "text": [
            "Enter x_test value:62.3\n",
            "[[10.36470552]]\n"
          ]
        }
      ]
    },
    {
      "cell_type": "markdown",
      "source": [
        "# **Conclusion**:-\n",
        "\n",
        "### Here, Machine Learning Algorithm used is Linear Regression (LR) to predict sales using advertising dataset. The program did a really good job, getting it right about 81 times out of 100 which is 81%. This means it's pretty good.\n",
        "\n",
        "### So, LR, is quite good at predicting sales for different types of methods."
      ],
      "metadata": {
        "id": "u1DBMt0-v-EI"
      }
    }
  ]
}